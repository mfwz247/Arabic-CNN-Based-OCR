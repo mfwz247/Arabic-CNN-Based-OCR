{
  "nbformat": 4,
  "nbformat_minor": 0,
  "metadata": {
    "colab": {
      "name": "Keras slicer",
      "provenance": [],
      "collapsed_sections": [],
      "authorship_tag": "ABX9TyP2U54AE85Ns7EU9AbDU5hX",
      "include_colab_link": true
    },
    "kernelspec": {
      "name": "python3",
      "display_name": "Python 3"
    },
    "language_info": {
      "name": "python"
    }
  },
  "cells": [
    {
      "cell_type": "markdown",
      "metadata": {
        "id": "view-in-github",
        "colab_type": "text"
      },
      "source": [
        "<a href=\"https://colab.research.google.com/github/mfwz247/Arabic-CNN-Based-OCR/blob/main/Keras_slicer.ipynb\" target=\"_parent\"><img src=\"https://colab.research.google.com/assets/colab-badge.svg\" alt=\"Open In Colab\"/></a>"
      ]
    },
    {
      "cell_type": "code",
      "execution_count": 1,
      "metadata": {
        "id": "u5AYSLh1j4eA"
      },
      "outputs": [],
      "source": [
        "# import the necessary packages\n",
        "import imutils\n",
        "def sliding_window(image, step, ws):\n",
        "\t# slide a window across the image\n",
        "\tfor y in range(0, image.shape[0] - ws[1], step):\n",
        "\t\tfor x in range(0, image.shape[1] - ws[0], step):\n",
        "\t\t\t# yield the current window\n",
        "\t\t\tyield (x, y, image[y:y + ws[1], x:x + ws[0]])"
      ]
    },
    {
      "cell_type": "code",
      "source": [
        "def image_pyramid(image, scale=1, minSize=(10, 10)):\n",
        "\t# yield the original image\n",
        "\tyield image\n",
        "\t# keep looping over the image pyramid\n",
        "\twhile True:\n",
        "\t\t# compute the dimensions of the next image in the pyramid\n",
        "\t\tw = int(image.shape[1] / scale)\n",
        "\t\timage = imutils.resize(image, width=w)\n",
        "\t\t# if the resized image does not meet the supplied minimum\n",
        "\t\t# size, then stop constructing the pyramid\n",
        "\t\tif image.shape[0] < minSize[1] or image.shape[1] < minSize[0]:\n",
        "\t\t\tbreak\n",
        "\t\t# yield the next image in the pyramid\n",
        "\t\tyield image"
      ],
      "metadata": {
        "id": "GWrvF3EHkEge"
      },
      "execution_count": 2,
      "outputs": []
    },
    {
      "cell_type": "code",
      "source": [
        "# import the necessary packages\n",
        "from PIL import ImageFont, ImageDraw, Image\n",
        "from tensorflow import keras\n",
        "from tensorflow.keras import utils\n",
        "from tensorflow.keras import models\n",
        "from tensorflow.keras.models import load_model\n",
        "from tensorflow.keras.preprocessing.image import img_to_array \n",
        "from tensorflow.keras.applications import imagenet_utils\n",
        "from imutils.object_detection import non_max_suppression\n",
        "import numpy as np\n",
        "import argparse\n",
        "import time\n",
        "import cv2\n",
        "import matplotlib.pyplot as plt\n",
        "%matplotlib inline"
      ],
      "metadata": {
        "id": "sXeo8ZAtkLP-"
      },
      "execution_count": 3,
      "outputs": []
    },
    {
      "cell_type": "code",
      "source": [
        "# initialize variables used for the object detection procedure\n",
        "WIDTH = 500\n",
        "PYR_SCALE = 3\n",
        "WIN_STEP = 8\n",
        "ROI_SIZE = eval(\"(300,100)\")\n",
        "INPUT_SIZE = (64, 64)"
      ],
      "metadata": {
        "id": "Ci_EqVYSkZ3B"
      },
      "execution_count": 4,
      "outputs": []
    },
    {
      "cell_type": "code",
      "source": [
        "# load our network weights from disk\n",
        "print(\"[INFO] loading network...\")\n",
        "model = load_model(\"/content/Model/MFA2.h5\")\n",
        "# load the input image from disk, resize it such that it has the\n",
        "# has the supplied width, and then grab its dimensions\n",
        "orig = cv2.imread(\"/content/saeed.png\")\n",
        "orig = imutils.resize(orig, width=WIDTH)\n",
        "(H, W) = orig.shape[:2]"
      ],
      "metadata": {
        "colab": {
          "base_uri": "https://localhost:8080/"
        },
        "id": "zcAjMIgCkcjb",
        "outputId": "a1ed6d41-21e4-4dbf-8042-bc63ca5f979e"
      },
      "execution_count": 5,
      "outputs": [
        {
          "output_type": "stream",
          "name": "stdout",
          "text": [
            "[INFO] loading network...\n"
          ]
        }
      ]
    },
    {
      "cell_type": "code",
      "source": [
        " \n",
        " #initialize the image pyramid\n",
        "pyramid = image_pyramid(orig, scale=PYR_SCALE, minSize=ROI_SIZE)\n",
        "# initialize two lists, one to hold the ROIs generated from the image\n",
        "# pyramid and sliding window, and another list used to store the\n",
        "# (x, y)-coordinates of where the ROI was in the original image\n",
        "rois = []\n",
        "locs = []\n",
        "# time how long it takes to loop over the image pyramid layers and\n",
        "# sliding window locations\n",
        "start = time.time()"
      ],
      "metadata": {
        "id": "e_FxwjGNklfN"
      },
      "execution_count": 6,
      "outputs": []
    },
    {
      "cell_type": "code",
      "source": [
        "for image in pyramid:\n",
        "  scale = W / float(image.shape[1])\n",
        "  for (x, y, roiOrig) in sliding_window(image, WIN_STEP, ROI_SIZE):\n",
        "    x = int(x * scale)\n",
        "    y = int(y * scale)\n",
        "    w = int(ROI_SIZE[0] * scale)\n",
        "    h = int(ROI_SIZE[1] * scale)\n",
        "    gray= cv2.cvtColor(roiOrig,cv2.COLOR_BGR2GRAY)\n",
        "    ret,inv = cv2.threshold(gray,127,255,cv2.THRESH_BINARY_INV)\n",
        "    roi = cv2.resize(inv, INPUT_SIZE)\n",
        "    roi = img_to_array(roi)\n",
        "    cv2.imwrite(\"preprocess.jpeg\",roi)\n",
        "    rois.append(roi)\n",
        "    locs.append((x, y, x + w, y + h))"
      ],
      "metadata": {
        "id": "XdplnLybklXs"
      },
      "execution_count": 7,
      "outputs": []
    },
    {
      "cell_type": "code",
      "source": [
        "clone = orig.copy()\n",
        "cv2.rectangle(clone, (x, y), (x + w, y + h),(0, 255, 0), 2)\n",
        "cv2.imwrite(\"Visualization.jpeg\", clone)\n",
        "cv2.imwrite(\"ROI.jpeg\", roiOrig)"
      ],
      "metadata": {
        "colab": {
          "base_uri": "https://localhost:8080/"
        },
        "id": "U3pPgdg0ko6Y",
        "outputId": "9fe04ca5-6b5c-48dc-e953-80cc16ec5b81"
      },
      "execution_count": 8,
      "outputs": [
        {
          "output_type": "execute_result",
          "data": {
            "text/plain": [
              "True"
            ]
          },
          "metadata": {},
          "execution_count": 8
        }
      ]
    },
    {
      "cell_type": "code",
      "source": [
        "# show how long it took to loop over the image pyramid layers and\n",
        "# sliding window locations\n",
        "end = time.time()\n",
        "print(\"[INFO] looping over pyramid/windows took {:.5f} seconds\".format(\n",
        "\tend - start))\n",
        "# convert the ROIs to a NumPy array\n",
        "rois = np.array(rois, dtype=\"float32\")\n",
        "# classify each of the proposal ROIs using ResNet and then show how\n",
        "# long the classifications took\n",
        "print(\"[INFO] classifying ROIs...\")\n",
        "start = time.time()\n",
        "preds = model.predict(rois)\n",
        "end = time.time()\n",
        "print(\"[INFO] classifying ROIs took {:.5f} seconds\".format(end - start))\n",
        "# decode the predictions and initialize a dictionary which maps class\n",
        "# labels (keys) to any ROIs associated with that label (values)\n",
        "\n",
        "\n",
        "# Find index of maximum value from 2D numpy array\n",
        "\n",
        "result = np.where(preds == np.amax(preds))\n",
        "maxInColumns = np.amax(preds, axis=1)\n",
        "# zip the 2 arrays to get the exact coordinates\n",
        "\n",
        "# cls=[]\n",
        "\n",
        "# for i in range(len(result[1])):\n",
        "\n",
        "#   ix=result[1][i]\n",
        "#   cls.append(classes[ix])\n",
        "\n",
        "listOfCordinates = list(zip(maxInColumns,result[1]))\n",
        "\n",
        "def extractDigits(lst):\n",
        "    return list(map(lambda el:[el], lst))\n",
        "\n",
        "preds=extractDigits(listOfCordinates)\n",
        "# travese over the list of cordinates\n",
        "   \n",
        "preds =np.array(preds)\n",
        "\n",
        "labels = {}"
      ],
      "metadata": {
        "colab": {
          "base_uri": "https://localhost:8080/"
        },
        "id": "xfNlHpBIkswY",
        "outputId": "bfe42927-d7da-42f7-d247-513cab1a39fe"
      },
      "execution_count": 9,
      "outputs": [
        {
          "output_type": "stream",
          "name": "stdout",
          "text": [
            "[INFO] looping over pyramid/windows took 0.55656 seconds\n",
            "[INFO] classifying ROIs...\n",
            "[INFO] classifying ROIs took 26.11909 seconds\n"
          ]
        }
      ]
    },
    {
      "cell_type": "code",
      "source": [
        "for (i, p) in enumerate(preds):\n",
        "\n",
        "  prob=float(p[0][0])\n",
        "  label=p[0][1]\n",
        "  label=str(label)\n",
        " \n",
        "\n",
        "  if prob >= 0.2:\n",
        "    box = locs[i]\n",
        "    L = labels.get(label, [])\n",
        "    L.append((box, prob))\n",
        "    labels[label] = L\n",
        "    "
      ],
      "metadata": {
        "id": "A7OkGACLkuTj"
      },
      "execution_count": 10,
      "outputs": []
    },
    {
      "cell_type": "code",
      "source": [
        "# loop over the labels for each of detected objects in the image\n",
        "for label in labels.keys():\n",
        "\t# clone the original image so that we can draw on it\n",
        "\tprint(\"[INFO] showing results for '{}'\".format(label))\n",
        "\tclone = orig.copy()\n",
        "\t# loop over all bounding boxes for the current label\n",
        "\tfor (box, prob) in labels[label]:\n",
        "\t\t# draw the bounding box on the image\n",
        "\t\t(startX, startY, endX, endY) = box\n",
        "\t\tcv2.rectangle(clone, (startX, startY), (endX, endY),\n",
        "\t\t\t(0, 255, 0), 2)\n",
        "\t# show the results *before* applying non-maxima suppression, then\n",
        "\t# clone the image again so we can display the results *after*\n",
        "\t# applying non-maxima suppression\n",
        "\tcv2.imwrite(\"Before.jpeg\", clone)\n",
        "\tclone = orig.copy()"
      ],
      "metadata": {
        "id": "sqTYwPu3kw0f",
        "colab": {
          "base_uri": "https://localhost:8080/"
        },
        "outputId": "1e24d203-9a71-4024-aaf9-26e1b1ac0b12"
      },
      "execution_count": 11,
      "outputs": [
        {
          "output_type": "stream",
          "name": "stdout",
          "text": [
            "[INFO] showing results for '75.0'\n",
            "[INFO] showing results for '13.0'\n"
          ]
        }
      ]
    },
    {
      "cell_type": "code",
      "source": [
        "boxes = np.array([p[0] for p in labels[label]])\n",
        "proba = np.array([p[1] for p in labels[label]])\n",
        "boxes = non_max_suppression(boxes, proba)\n",
        "for (startX, startY, endX, endY) in boxes:\n",
        "\t\n",
        "\tprint(format(label))\n",
        "\tcv2.rectangle(clone, (startX, startY), (endX, endY),(0, 255, 0), 2)\n",
        "\ty = startY - 10 if startY - 10 > 10 else startY + 10\n",
        "\tcv2.putText(clone, str(format(label)), (startX, y),\n",
        "\t            cv2.FONT_HERSHEY_SIMPLEX, 0.45, (0, 255, 0), 2)\n",
        "cv2.imwrite(\"After.jpeg\", clone)\n",
        "plt.imshow(clone)\n",
        "cv2.waitKey(0)"
      ],
      "metadata": {
        "id": "YLiVj1HDkzH0",
        "colab": {
          "base_uri": "https://localhost:8080/",
          "height": 237
        },
        "outputId": "88c5c2c0-329d-439c-cdb7-684cffe8c483"
      },
      "execution_count": 12,
      "outputs": [
        {
          "output_type": "stream",
          "name": "stdout",
          "text": [
            "13.0\n"
          ]
        },
        {
          "output_type": "execute_result",
          "data": {
            "text/plain": [
              "-1"
            ]
          },
          "metadata": {},
          "execution_count": 12
        },
        {
          "output_type": "display_data",
          "data": {
            "text/plain": [
              "<Figure size 432x288 with 1 Axes>"
            ],
            "image/png": "[encoded data removed]"
          },
          "metadata": {
            "needs_background": "light"
          }
        }
      ]
    },
    {
      "cell_type": "code",
      "source": [
        "# from keras.applications.imagenet_utils import preprocess_input\n",
        "\n",
        "\n",
        "\n",
        "# model = load_model(\"/content/Model/MFA2.h5\")\n",
        "\n",
        "# # resize image\n",
        "# img = keras.utils.load_img(\"/content/67-3.jpg\", target_size=(64, 64), color_mode=\"grayscale\")\n",
        "\n",
        "# img_array = keras.utils.img_to_array(img)\n",
        "\n",
        "# img_batch = np.expand_dims(img_array, axis=0)\n",
        "\n",
        "# # img_preprocessed = preprocess_input(img_batch)\n",
        "\n",
        "\n",
        "# preds=np.argmax(model.predict(img_batch))\n",
        "# print(preds)\n"
      ],
      "metadata": {
        "id": "koBE_YHJHGBV"
      },
      "execution_count": 13,
      "outputs": []
    },
    {
      "cell_type": "code",
      "source": [
        "# !kaggle kernels output muhammadfawzy/arabic-words-keras -p \"/content/Model\""
      ],
      "metadata": {
        "id": "Ma1hEzaXIwO2"
      },
      "execution_count": 14,
      "outputs": []
    },
    {
      "cell_type": "code",
      "source": [
        "# from google.colab import files\n",
        "\n",
        "# uploaded = files.upload()\n",
        "\n",
        "# for fn in uploaded.keys():\n",
        "#   print('User uploaded file \"{name}\" with length {length} bytes'.format(\n",
        "#       name=fn, length=len(uploaded[fn])))\n",
        "  \n",
        "# # Then move kaggle.json into the folder where the API expects to find it.\n",
        "# !mkdir -p ~/.kaggle/ && mv kaggle.json ~/.kaggle/ && chmod 600 ~/.kaggle/kaggle.json"
      ],
      "metadata": {
        "id": "q3uBT6PvHs_v"
      },
      "execution_count": 15,
      "outputs": []
    }
  ]
}