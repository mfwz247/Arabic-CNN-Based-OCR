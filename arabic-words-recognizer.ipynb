{
 "cells": [
  {
   "cell_type": "code",
   "execution_count": 1,
   "id": "c3dde56d",
   "metadata": {
    "execution": {
     "iopub.execute_input": "2022-03-24T03:12:03.609588Z",
     "iopub.status.busy": "2022-03-24T03:12:03.608003Z",
     "iopub.status.idle": "2022-03-24T03:12:09.295409Z",
     "shell.execute_reply": "2022-03-24T03:12:09.294691Z"
    },
    "papermill": {
     "duration": 5.701702,
     "end_time": "2022-03-24T03:12:09.295561",
     "exception": false,
     "start_time": "2022-03-24T03:12:03.593859",
     "status": "completed"
    },
    "tags": []
   },
   "outputs": [],
   "source": [
    "import pandas as pd\n",
    "import numpy as np\n",
    "import os\n",
    "import tensorflow as tf\n",
    "import cv2\n",
    "from PIL import Image\n",
    "from tensorflow import keras\n",
    "from tensorflow.keras import layers\n",
    "from tensorflow.keras.layers import Dense, Input, InputLayer, Flatten, Conv2D, MaxPooling2D, Dropout,Activation, BatchNormalization\n",
    "from tensorflow.keras.models import Sequential, Model\n",
    "from tensorflow.keras.layers.experimental import preprocessing\n",
    "from keras.callbacks import ReduceLROnPlateau , EarlyStopping\n",
    "import tensorflow.compat.v1 as tf\n",
    "from keras import optimizers\n",
    "from keras.layers.core import Lambda\n",
    "from keras import backend as K\n",
    "from keras import regularizers\n",
    "tf.disable_v2_behavior()\n",
    "\n",
    "from  matplotlib import pyplot as plt\n",
    "import matplotlib.image as mpimg\n",
    "%matplotlib inline"
   ]
  },
  {
   "cell_type": "code",
   "execution_count": 2,
   "id": "c275c59f",
   "metadata": {
    "execution": {
     "iopub.execute_input": "2022-03-24T03:12:09.320605Z",
     "iopub.status.busy": "2022-03-24T03:12:09.319954Z",
     "iopub.status.idle": "2022-03-24T03:12:09.375228Z",
     "shell.execute_reply": "2022-03-24T03:12:09.374790Z"
    },
    "papermill": {
     "duration": 0.069463,
     "end_time": "2022-03-24T03:12:09.375335",
     "exception": false,
     "start_time": "2022-03-24T03:12:09.305872",
     "status": "completed"
    },
    "tags": []
   },
   "outputs": [
    {
     "data": {
      "text/html": [
       "<div>\n",
       "<style scoped>\n",
       "    .dataframe tbody tr th:only-of-type {\n",
       "        vertical-align: middle;\n",
       "    }\n",
       "\n",
       "    .dataframe tbody tr th {\n",
       "        vertical-align: top;\n",
       "    }\n",
       "\n",
       "    .dataframe thead th {\n",
       "        text-align: right;\n",
       "    }\n",
       "</style>\n",
       "<table border=\"1\" class=\"dataframe\">\n",
       "  <thead>\n",
       "    <tr style=\"text-align: right;\">\n",
       "      <th></th>\n",
       "      <th>label</th>\n",
       "    </tr>\n",
       "  </thead>\n",
       "  <tbody>\n",
       "    <tr>\n",
       "      <th>0</th>\n",
       "      <td>1</td>\n",
       "    </tr>\n",
       "    <tr>\n",
       "      <th>1</th>\n",
       "      <td>10</td>\n",
       "    </tr>\n",
       "    <tr>\n",
       "      <th>2</th>\n",
       "      <td>11</td>\n",
       "    </tr>\n",
       "    <tr>\n",
       "      <th>3</th>\n",
       "      <td>12</td>\n",
       "    </tr>\n",
       "    <tr>\n",
       "      <th>4</th>\n",
       "      <td>13</td>\n",
       "    </tr>\n",
       "  </tbody>\n",
       "</table>\n",
       "</div>"
      ],
      "text/plain": [
       "   label\n",
       "0      1\n",
       "1     10\n",
       "2     11\n",
       "3     12\n",
       "4     13"
      ]
     },
     "execution_count": 2,
     "metadata": {},
     "output_type": "execute_result"
    }
   ],
   "source": [
    "images=pd.read_csv('../input/alexu-word/alexuw/alexuw_sampleFileNames.txt', header= None)\n",
    "images.rename(columns={0:'image'},inplace=True)\n",
    "labels = pd.read_csv('../input/alexu-word/alexuw/alexuw_sampleWordLabels.txt', header= None)\n",
    "labels.rename(columns={0:'label'},inplace=True)\n",
    "labels.head()"
   ]
  },
  {
   "cell_type": "code",
   "execution_count": 3,
   "id": "c4939679",
   "metadata": {
    "execution": {
     "iopub.execute_input": "2022-03-24T03:12:09.402566Z",
     "iopub.status.busy": "2022-03-24T03:12:09.401773Z",
     "iopub.status.idle": "2022-03-24T03:12:09.405051Z",
     "shell.execute_reply": "2022-03-24T03:12:09.405478Z"
    },
    "papermill": {
     "duration": 0.020057,
     "end_time": "2022-03-24T03:12:09.405603",
     "exception": false,
     "start_time": "2022-03-24T03:12:09.385546",
     "status": "completed"
    },
    "tags": []
   },
   "outputs": [
    {
     "data": {
      "text/html": [
       "<div>\n",
       "<style scoped>\n",
       "    .dataframe tbody tr th:only-of-type {\n",
       "        vertical-align: middle;\n",
       "    }\n",
       "\n",
       "    .dataframe tbody tr th {\n",
       "        vertical-align: top;\n",
       "    }\n",
       "\n",
       "    .dataframe thead th {\n",
       "        text-align: right;\n",
       "    }\n",
       "</style>\n",
       "<table border=\"1\" class=\"dataframe\">\n",
       "  <thead>\n",
       "    <tr style=\"text-align: right;\">\n",
       "      <th></th>\n",
       "      <th>image</th>\n",
       "    </tr>\n",
       "  </thead>\n",
       "  <tbody>\n",
       "    <tr>\n",
       "      <th>0</th>\n",
       "      <td>1-1.jpg</td>\n",
       "    </tr>\n",
       "    <tr>\n",
       "      <th>1</th>\n",
       "      <td>1-10.jpg</td>\n",
       "    </tr>\n",
       "    <tr>\n",
       "      <th>2</th>\n",
       "      <td>1-11.jpg</td>\n",
       "    </tr>\n",
       "    <tr>\n",
       "      <th>3</th>\n",
       "      <td>1-12.jpg</td>\n",
       "    </tr>\n",
       "    <tr>\n",
       "      <th>4</th>\n",
       "      <td>1-13.jpg</td>\n",
       "    </tr>\n",
       "  </tbody>\n",
       "</table>\n",
       "</div>"
      ],
      "text/plain": [
       "      image\n",
       "0   1-1.jpg\n",
       "1  1-10.jpg\n",
       "2  1-11.jpg\n",
       "3  1-12.jpg\n",
       "4  1-13.jpg"
      ]
     },
     "execution_count": 3,
     "metadata": {},
     "output_type": "execute_result"
    }
   ],
   "source": [
    "images.head()"
   ]
  },
  {
   "cell_type": "code",
   "execution_count": 4,
   "id": "995591e7",
   "metadata": {
    "execution": {
     "iopub.execute_input": "2022-03-24T03:12:09.431260Z",
     "iopub.status.busy": "2022-03-24T03:12:09.430517Z",
     "iopub.status.idle": "2022-03-24T03:12:09.504028Z",
     "shell.execute_reply": "2022-03-24T03:12:09.503614Z"
    },
    "papermill": {
     "duration": 0.088055,
     "end_time": "2022-03-24T03:12:09.504126",
     "exception": false,
     "start_time": "2022-03-24T03:12:09.416071",
     "status": "completed"
    },
    "tags": []
   },
   "outputs": [
    {
     "name": "stdout",
     "output_type": "stream",
     "text": [
      "<class 'pandas.core.frame.DataFrame'>\n",
      "RangeIndex: 25114 entries, 0 to 25113\n",
      "Data columns (total 2 columns):\n",
      " #   Column  Non-Null Count  Dtype \n",
      "---  ------  --------------  ----- \n",
      " 0   image   25114 non-null  object\n",
      " 1   label   25114 non-null  int64 \n",
      "dtypes: int64(1), object(1)\n",
      "memory usage: 392.5+ KB\n"
     ]
    }
   ],
   "source": [
    "df  = pd.concat([images,labels], axis = 1)\n",
    "df.info()\n",
    "df.to_csv('df.csv')\n"
   ]
  },
  {
   "cell_type": "code",
   "execution_count": 5,
   "id": "109a0fd8",
   "metadata": {
    "execution": {
     "iopub.execute_input": "2022-03-24T03:12:09.556925Z",
     "iopub.status.busy": "2022-03-24T03:12:09.555925Z",
     "iopub.status.idle": "2022-03-24T03:13:00.718538Z",
     "shell.execute_reply": "2022-03-24T03:13:00.718923Z"
    },
    "papermill": {
     "duration": 51.203727,
     "end_time": "2022-03-24T03:13:00.719073",
     "exception": false,
     "start_time": "2022-03-24T03:12:09.515346",
     "status": "completed"
    },
    "tags": []
   },
   "outputs": [
    {
     "name": "stdout",
     "output_type": "stream",
     "text": [
      "Found 22603 validated image filenames belonging to 109 classes.\n",
      "Found 2511 validated image filenames belonging to 109 classes.\n"
     ]
    }
   ],
   "source": [
    "\n",
    "df.label=df.label.astype(str)\n",
    "from keras_preprocessing.image import ImageDataGenerator\n",
    "\n",
    "image_generator = ImageDataGenerator(\n",
    "    validation_split=0.1,\n",
    "    rescale=1.0/255.0,\n",
    "    \n",
    "    featurewise_center=False,  # set input mean to 0 over the dataset\n",
    "    samplewise_center=False,  # set each sample mean to 0\n",
    "    featurewise_std_normalization=False,  # divide inputs by std of the dataset\n",
    "    samplewise_std_normalization=False,  # divide each input by its std\n",
    "    zca_whitening=False,  # apply ZCA whitening randomly f\n",
    "    rotation_range=15,  \n",
    "    vertical_flip=False\n",
    ")\n",
    "\n",
    "training_generator = image_generator.flow_from_dataframe(\n",
    "    dataframe=df,\n",
    "    directory=\"../input/alexu-word/alexuw/pooledImages\",\n",
    "    x_col=\"image\",\n",
    "    y_col=\"label\",\n",
    "    color_mode= \"grayscale\",\n",
    "    target_size=(64,64),\n",
    "    batch_size=32,\n",
    "    subset=\"training\"\n",
    ")\n",
    "\n",
    "validation_generator = image_generator.flow_from_dataframe(\n",
    "    dataframe=df,\n",
    "    directory= \"../input/alexu-word/alexuw/pooledImages\",\n",
    "    x_col=\"image\",\n",
    "    y_col=\"label\",\n",
    "    color_mode= \"grayscale\",\n",
    "    target_size=(64,64),\n",
    "    batch_size=32,\n",
    "    subset=\"validation\"\n",
    ")\n",
    "\n",
    "classes = len(training_generator.class_indices)"
   ]
  },
  {
   "cell_type": "code",
   "execution_count": 6,
   "id": "15cb0f06",
   "metadata": {
    "execution": {
     "iopub.execute_input": "2022-03-24T03:13:00.751382Z",
     "iopub.status.busy": "2022-03-24T03:13:00.750796Z",
     "iopub.status.idle": "2022-03-24T03:13:01.269328Z",
     "shell.execute_reply": "2022-03-24T03:13:01.270154Z"
    },
    "papermill": {
     "duration": 0.539389,
     "end_time": "2022-03-24T03:13:01.270452",
     "exception": false,
     "start_time": "2022-03-24T03:13:00.731063",
     "status": "completed"
    },
    "tags": []
   },
   "outputs": [
    {
     "data": {
      "text/plain": [
       "<matplotlib.image.AxesImage at 0x7fa454390190>"
      ]
     },
     "execution_count": 6,
     "metadata": {},
     "output_type": "execute_result"
    },
    {
     "data": {
      "image/png": "[encoded data removed]",
      "text/plain": [
       "<Figure size 432x288 with 1 Axes>"
      ]
     },
     "metadata": {
      "needs_background": "light"
     },
     "output_type": "display_data"
    }
   ],
   "source": [
    "fig, ax = plt.subplots()\n",
    "ax.xaxis.tick_top()\n",
    "ax.imshow(training_generator[6][0][9])"
   ]
  },
  {
   "cell_type": "code",
   "execution_count": 7,
   "id": "47d50e1b",
   "metadata": {
    "execution": {
     "iopub.execute_input": "2022-03-24T03:13:01.332001Z",
     "iopub.status.busy": "2022-03-24T03:13:01.331109Z",
     "iopub.status.idle": "2022-03-24T03:13:01.332884Z",
     "shell.execute_reply": "2022-03-24T03:13:01.333786Z"
    },
    "papermill": {
     "duration": 0.036699,
     "end_time": "2022-03-24T03:13:01.333946",
     "exception": false,
     "start_time": "2022-03-24T03:13:01.297247",
     "status": "completed"
    },
    "tags": []
   },
   "outputs": [],
   "source": [
    "early_stopping = keras.callbacks.EarlyStopping(\n",
    "    monitor='val_loss',\n",
    "    patience=20,\n",
    "    restore_best_weights=True,\n",
    ")\n",
    "\n",
    "# Reduce learning rate when validation loss plateaus\n",
    "reduce_lr = keras.callbacks.ReduceLROnPlateau(\n",
    "    monitor='val_loss',\n",
    "    factor=0.5,\n",
    "    patience=5\n",
    ")"
   ]
  },
  {
   "cell_type": "code",
   "execution_count": 8,
   "id": "ec400171",
   "metadata": {
    "execution": {
     "iopub.execute_input": "2022-03-24T03:13:01.366096Z",
     "iopub.status.busy": "2022-03-24T03:13:01.365605Z",
     "iopub.status.idle": "2022-03-24T03:13:01.368672Z",
     "shell.execute_reply": "2022-03-24T03:13:01.369089Z"
    },
    "papermill": {
     "duration": 0.020832,
     "end_time": "2022-03-24T03:13:01.369241",
     "exception": false,
     "start_time": "2022-03-24T03:13:01.348409",
     "status": "completed"
    },
    "tags": []
   },
   "outputs": [],
   "source": [
    "train=True\n",
    "num_classes = 109\n",
    "weight_decay = 0.0005\n",
    "x_shape = [64,64,1]"
   ]
  },
  {
   "cell_type": "code",
   "execution_count": 9,
   "id": "c8e346cc",
   "metadata": {
    "execution": {
     "iopub.execute_input": "2022-03-24T03:13:01.414766Z",
     "iopub.status.busy": "2022-03-24T03:13:01.414092Z",
     "iopub.status.idle": "2022-03-24T03:13:02.239978Z",
     "shell.execute_reply": "2022-03-24T03:13:02.240442Z"
    },
    "papermill": {
     "duration": 0.858229,
     "end_time": "2022-03-24T03:13:02.240599",
     "exception": false,
     "start_time": "2022-03-24T03:13:01.382370",
     "status": "completed"
    },
    "tags": []
   },
   "outputs": [],
   "source": [
    "model = Sequential()\n",
    "weight_decay = weight_decay\n",
    "\n",
    "model.add(Conv2D(64, (3, 3), padding='same',\n",
    "                 input_shape=x_shape,kernel_regularizer=regularizers.l2(weight_decay)))\n",
    "model.add(Activation('relu'))\n",
    "model.add(BatchNormalization())\n",
    "\n",
    "model.add(Conv2D(64, (3, 3), padding='same',kernel_regularizer=regularizers.l2(weight_decay)))\n",
    "model.add(Activation('relu'))\n",
    "model.add(BatchNormalization())\n",
    "\n",
    "model.add(MaxPooling2D(pool_size=(2, 2)))\n",
    "\n",
    "model.add(Conv2D(128, (3, 3), padding='same',kernel_regularizer=regularizers.l2(weight_decay)))\n",
    "model.add(Activation('relu'))\n",
    "model.add(BatchNormalization())\n",
    "\n",
    "model.add(Conv2D(128, (3, 3), padding='same',kernel_regularizer=regularizers.l2(weight_decay)))\n",
    "model.add(Activation('relu'))\n",
    "model.add(BatchNormalization())\n",
    "\n",
    "model.add(MaxPooling2D(pool_size=(2, 2)))\n",
    "\n",
    "model.add(Conv2D(256, (3, 3), padding='same',kernel_regularizer=regularizers.l2(weight_decay)))\n",
    "model.add(Activation('relu'))\n",
    "model.add(BatchNormalization())\n",
    "\n",
    "model.add(Conv2D(256, (3, 3), padding='same',kernel_regularizer=regularizers.l2(weight_decay)))\n",
    "model.add(Activation('relu'))\n",
    "model.add(BatchNormalization())\n",
    "\n",
    "model.add(Conv2D(256, (3, 3), padding='same',kernel_regularizer=regularizers.l2(weight_decay)))\n",
    "model.add(Activation('relu'))\n",
    "model.add(BatchNormalization())\n",
    "\n",
    "model.add(MaxPooling2D(pool_size=(2, 2)))\n",
    "\n",
    "\n",
    "model.add(Conv2D(512, (3, 3), padding='same',kernel_regularizer=regularizers.l2(weight_decay)))\n",
    "model.add(Activation('relu'))\n",
    "model.add(BatchNormalization())\n",
    "\n",
    "\n",
    "model.add(Conv2D(512, (3, 3), padding='same',kernel_regularizer=regularizers.l2(weight_decay)))\n",
    "model.add(Activation('relu'))\n",
    "model.add(BatchNormalization())\n",
    "model.add(Dropout(0.1))\n",
    "\n",
    "model.add(Conv2D(512, (3, 3), padding='same',kernel_regularizer=regularizers.l2(weight_decay)))\n",
    "model.add(Activation('relu'))\n",
    "model.add(BatchNormalization())\n",
    "\n",
    "model.add(MaxPooling2D(pool_size=(2, 2)))\n",
    "\n",
    "\n",
    "model.add(Conv2D(512, (3, 3), padding='same',kernel_regularizer=regularizers.l2(weight_decay)))\n",
    "model.add(Activation('relu'))\n",
    "model.add(BatchNormalization())\n",
    "\n",
    "model.add(Conv2D(512, (3, 3), padding='same',kernel_regularizer=regularizers.l2(weight_decay)))\n",
    "model.add(Activation('relu'))\n",
    "model.add(BatchNormalization())\n",
    "\n",
    "\n",
    "model.add(Conv2D(512, (3, 3), padding='same',kernel_regularizer=regularizers.l2(weight_decay)))\n",
    "model.add(Activation('relu'))\n",
    "model.add(BatchNormalization())\n",
    "\n",
    "model.add(MaxPooling2D(pool_size=(2, 2)))\n",
    "\n",
    "\n",
    "model.add(Flatten())\n",
    "model.add(Dense(512,kernel_regularizer=regularizers.l2(weight_decay)))\n",
    "model.add(Activation('relu'))\n",
    "model.add(BatchNormalization())\n",
    "\n",
    "model.add(Dropout(0.5))\n",
    "model.add(Dense(num_classes))\n",
    "model.add(Activation('softmax'))"
   ]
  },
  {
   "cell_type": "code",
   "execution_count": 10,
   "id": "c7125753",
   "metadata": {
    "execution": {
     "iopub.execute_input": "2022-03-24T03:13:02.281987Z",
     "iopub.status.busy": "2022-03-24T03:13:02.281162Z",
     "iopub.status.idle": "2022-03-24T03:31:07.731569Z",
     "shell.execute_reply": "2022-03-24T03:31:07.731088Z"
    },
    "papermill": {
     "duration": 1085.477667,
     "end_time": "2022-03-24T03:31:07.731706",
     "exception": false,
     "start_time": "2022-03-24T03:13:02.254039",
     "status": "completed"
    },
    "tags": []
   },
   "outputs": [
    {
     "name": "stderr",
     "output_type": "stream",
     "text": [
      "2022-03-24 03:13:02.462550: I tensorflow/stream_executor/cuda/cuda_gpu_executor.cc:937] successful NUMA node read from SysFS had negative value (-1), but there must be at least one NUMA node, so returning NUMA node zero\n",
      "2022-03-24 03:13:02.551959: I tensorflow/stream_executor/cuda/cuda_gpu_executor.cc:937] successful NUMA node read from SysFS had negative value (-1), but there must be at least one NUMA node, so returning NUMA node zero\n",
      "2022-03-24 03:13:02.552790: I tensorflow/stream_executor/cuda/cuda_gpu_executor.cc:937] successful NUMA node read from SysFS had negative value (-1), but there must be at least one NUMA node, so returning NUMA node zero\n",
      "2022-03-24 03:13:02.554308: I tensorflow/core/platform/cpu_feature_guard.cc:142] This TensorFlow binary is optimized with oneAPI Deep Neural Network Library (oneDNN) to use the following CPU instructions in performance-critical operations:  AVX2 AVX512F FMA\n",
      "To enable them in other operations, rebuild TensorFlow with the appropriate compiler flags.\n",
      "2022-03-24 03:13:02.555528: I tensorflow/stream_executor/cuda/cuda_gpu_executor.cc:937] successful NUMA node read from SysFS had negative value (-1), but there must be at least one NUMA node, so returning NUMA node zero\n",
      "2022-03-24 03:13:02.556755: I tensorflow/stream_executor/cuda/cuda_gpu_executor.cc:937] successful NUMA node read from SysFS had negative value (-1), but there must be at least one NUMA node, so returning NUMA node zero\n",
      "2022-03-24 03:13:02.557772: I tensorflow/stream_executor/cuda/cuda_gpu_executor.cc:937] successful NUMA node read from SysFS had negative value (-1), but there must be at least one NUMA node, so returning NUMA node zero\n",
      "2022-03-24 03:13:04.611083: I tensorflow/stream_executor/cuda/cuda_gpu_executor.cc:937] successful NUMA node read from SysFS had negative value (-1), but there must be at least one NUMA node, so returning NUMA node zero\n",
      "2022-03-24 03:13:04.612191: I tensorflow/stream_executor/cuda/cuda_gpu_executor.cc:937] successful NUMA node read from SysFS had negative value (-1), but there must be at least one NUMA node, so returning NUMA node zero\n",
      "2022-03-24 03:13:04.613098: I tensorflow/stream_executor/cuda/cuda_gpu_executor.cc:937] successful NUMA node read from SysFS had negative value (-1), but there must be at least one NUMA node, so returning NUMA node zero\n",
      "2022-03-24 03:13:04.613862: I tensorflow/core/common_runtime/gpu/gpu_device.cc:1510] Created device /job:localhost/replica:0/task:0/device:GPU:0 with 15403 MB memory:  -> device: 0, name: Tesla P100-PCIE-16GB, pci bus id: 0000:00:04.0, compute capability: 6.0\n"
     ]
    },
    {
     "name": "stdout",
     "output_type": "stream",
     "text": [
      "Epoch 1/20\n"
     ]
    },
    {
     "name": "stderr",
     "output_type": "stream",
     "text": [
      "2022-03-24 03:13:08.399882: I tensorflow/stream_executor/cuda/cuda_dnn.cc:369] Loaded cuDNN version 8005\n"
     ]
    },
    {
     "name": "stdout",
     "output_type": "stream",
     "text": [
      "707/707 [==============================] - ETA: 0s - batch: 353.0000 - size: 31.9703 - loss: 4.0227 - acc: 0.6141"
     ]
    },
    {
     "name": "stderr",
     "output_type": "stream",
     "text": [
      "/opt/conda/lib/python3.7/site-packages/keras/engine/training.py:2470: UserWarning: `Model.state_updates` will be removed in a future version. This property should not be used in TensorFlow 2.0, as `updates` are applied automatically.\n",
      "  warnings.warn('`Model.state_updates` will be removed in a future version. '\n"
     ]
    },
    {
     "name": "stdout",
     "output_type": "stream",
     "text": [
      "707/707 [==============================] - 143s 189ms/step - batch: 353.0000 - size: 31.9703 - loss: 4.0227 - acc: 0.6141 - val_loss: 3.7262 - val_acc: 0.6033 - lr: 0.0010\n",
      "Epoch 2/20\n",
      "707/707 [==============================] - 49s 69ms/step - batch: 353.0000 - size: 31.9703 - loss: 2.3823 - acc: 0.8803 - val_loss: 2.0170 - val_acc: 0.9000 - lr: 0.0010\n",
      "Epoch 3/20\n",
      "707/707 [==============================] - 48s 68ms/step - batch: 353.0000 - size: 31.9703 - loss: 1.8046 - acc: 0.9043 - val_loss: 1.6694 - val_acc: 0.9040 - lr: 0.0010\n",
      "Epoch 4/20\n",
      "707/707 [==============================] - 48s 68ms/step - batch: 353.0000 - size: 31.9703 - loss: 1.5456 - acc: 0.9086 - val_loss: 1.5914 - val_acc: 0.8714 - lr: 0.0010\n",
      "Epoch 5/20\n",
      "707/707 [==============================] - 47s 67ms/step - batch: 353.0000 - size: 31.9703 - loss: 1.5030 - acc: 0.9037 - val_loss: 1.5680 - val_acc: 0.8730 - lr: 0.0010\n",
      "Epoch 6/20\n",
      "707/707 [==============================] - 49s 70ms/step - batch: 353.0000 - size: 31.9703 - loss: 1.5007 - acc: 0.9019 - val_loss: 6.4181 - val_acc: 0.1043 - lr: 0.0010\n",
      "Epoch 7/20\n",
      "707/707 [==============================] - 48s 68ms/step - batch: 353.0000 - size: 31.9703 - loss: 1.6834 - acc: 0.8906 - val_loss: 1.7123 - val_acc: 0.8670 - lr: 0.0010\n",
      "Epoch 8/20\n",
      "707/707 [==============================] - 50s 71ms/step - batch: 353.0000 - size: 31.9703 - loss: 1.5990 - acc: 0.8932 - val_loss: 1.6353 - val_acc: 0.8722 - lr: 0.0010\n",
      "Epoch 9/20\n",
      "707/707 [==============================] - 48s 68ms/step - batch: 353.0000 - size: 31.9703 - loss: 1.6234 - acc: 0.8936 - val_loss: 1.7333 - val_acc: 0.8515 - lr: 0.0010\n",
      "Epoch 10/20\n",
      "707/707 [==============================] - 51s 72ms/step - batch: 353.0000 - size: 31.9703 - loss: 1.5843 - acc: 0.8959 - val_loss: 4.4711 - val_acc: 0.2843 - lr: 0.0010\n",
      "Epoch 11/20\n",
      "707/707 [==============================] - 49s 70ms/step - batch: 353.0000 - size: 31.9703 - loss: 1.0678 - acc: 0.9427 - val_loss: 0.9436 - val_acc: 0.9462 - lr: 5.0000e-04\n",
      "Epoch 12/20\n",
      "707/707 [==============================] - 51s 72ms/step - batch: 353.0000 - size: 31.9703 - loss: 0.9469 - acc: 0.9367 - val_loss: 0.9146 - val_acc: 0.9343 - lr: 5.0000e-04\n",
      "Epoch 13/20\n",
      "707/707 [==============================] - 49s 70ms/step - batch: 353.0000 - size: 31.9703 - loss: 0.9511 - acc: 0.9339 - val_loss: 0.9336 - val_acc: 0.9355 - lr: 5.0000e-04\n",
      "Epoch 14/20\n",
      "707/707 [==============================] - 50s 70ms/step - batch: 353.0000 - size: 31.9703 - loss: 0.9159 - acc: 0.9384 - val_loss: 2.6033 - val_acc: 0.5368 - lr: 5.0000e-04\n",
      "Epoch 15/20\n",
      "707/707 [==============================] - 51s 72ms/step - batch: 353.0000 - size: 31.9703 - loss: 0.8555 - acc: 0.9430 - val_loss: 0.9460 - val_acc: 0.9136 - lr: 5.0000e-04\n",
      "Epoch 16/20\n",
      "707/707 [==============================] - 50s 70ms/step - batch: 353.0000 - size: 31.9703 - loss: 0.8566 - acc: 0.9440 - val_loss: 0.8075 - val_acc: 0.9434 - lr: 5.0000e-04\n",
      "Epoch 17/20\n",
      "707/707 [==============================] - 50s 71ms/step - batch: 353.0000 - size: 31.9703 - loss: 0.8053 - acc: 0.9485 - val_loss: 0.7897 - val_acc: 0.9466 - lr: 5.0000e-04\n",
      "Epoch 18/20\n",
      "707/707 [==============================] - 51s 72ms/step - batch: 353.0000 - size: 31.9703 - loss: 0.8087 - acc: 0.9441 - val_loss: 0.7371 - val_acc: 0.9598 - lr: 5.0000e-04\n",
      "Epoch 19/20\n",
      "707/707 [==============================] - 51s 71ms/step - batch: 353.0000 - size: 31.9703 - loss: 0.7807 - acc: 0.9487 - val_loss: 0.7710 - val_acc: 0.9466 - lr: 5.0000e-04\n",
      "Epoch 20/20\n",
      "707/707 [==============================] - 50s 71ms/step - batch: 353.0000 - size: 31.9703 - loss: 0.7144 - acc: 0.9548 - val_loss: 0.6936 - val_acc: 0.9594 - lr: 5.0000e-04\n"
     ]
    }
   ],
   "source": [
    "model.compile(optimizer = 'adam',\n",
    "              loss = 'categorical_crossentropy',\n",
    "              metrics=['accuracy'])\n",
    "\n",
    "hist = model.fit(training_generator, steps_per_epoch=len(training_generator), epochs=20,callbacks=[early_stopping, reduce_lr],validation_data=validation_generator)"
   ]
  },
  {
   "cell_type": "code",
   "execution_count": 11,
   "id": "275a3080",
   "metadata": {
    "execution": {
     "iopub.execute_input": "2022-03-24T03:31:16.704964Z",
     "iopub.status.busy": "2022-03-24T03:31:16.704414Z",
     "iopub.status.idle": "2022-03-24T03:31:21.384501Z",
     "shell.execute_reply": "2022-03-24T03:31:21.385222Z"
    },
    "papermill": {
     "duration": 9.058809,
     "end_time": "2022-03-24T03:31:21.385375",
     "exception": false,
     "start_time": "2022-03-24T03:31:12.326566",
     "status": "completed"
    },
    "tags": []
   },
   "outputs": [
    {
     "name": "stderr",
     "output_type": "stream",
     "text": [
      "/opt/conda/lib/python3.7/site-packages/keras/engine/training_v1.py:1261: UserWarning: `Model.evaluate_generator` is deprecated and will be removed in a future version. Please use `Model.evaluate`, which supports generators.\n",
      "  warnings.warn('`Model.evaluate_generator` is deprecated and '\n"
     ]
    },
    {
     "name": "stdout",
     "output_type": "stream",
     "text": [
      "Test Accuracy: 95.858\n"
     ]
    }
   ],
   "source": [
    "_, acc = model.evaluate_generator(validation_generator, steps=len(validation_generator), verbose=1)\n",
    "print('Test Accuracy: %.3f' % (acc * 100))"
   ]
  },
  {
   "cell_type": "code",
   "execution_count": 12,
   "id": "77aec151",
   "metadata": {
    "execution": {
     "iopub.execute_input": "2022-03-24T03:31:29.991508Z",
     "iopub.status.busy": "2022-03-24T03:31:29.990760Z",
     "iopub.status.idle": "2022-03-24T03:31:30.862592Z",
     "shell.execute_reply": "2022-03-24T03:31:30.864110Z"
    },
    "papermill": {
     "duration": 5.20914,
     "end_time": "2022-03-24T03:31:30.864406",
     "exception": false,
     "start_time": "2022-03-24T03:31:25.655266",
     "status": "completed"
    },
    "tags": []
   },
   "outputs": [],
   "source": [
    "model.save(\"MFA2.h5\")"
   ]
  }
 ],
 "metadata": {
  "kernelspec": {
   "display_name": "Python 3",
   "language": "python",
   "name": "python3"
  },
  "language_info": {
   "codemirror_mode": {
    "name": "ipython",
    "version": 3
   },
   "file_extension": ".py",
   "mimetype": "text/x-python",
   "name": "python",
   "nbconvert_exporter": "python",
   "pygments_lexer": "ipython3",
   "version": "3.7.12"
  },
  "papermill": {
   "default_parameters": {},
   "duration": 1183.069745,
   "end_time": "2022-03-24T03:31:38.503535",
   "environment_variables": {},
   "exception": null,
   "input_path": "__notebook__.ipynb",
   "output_path": "__notebook__.ipynb",
   "parameters": {},
   "start_time": "2022-03-24T03:11:55.433790",
   "version": "2.3.3"
  }
 },
 "nbformat": 4,
 "nbformat_minor": 5
}
