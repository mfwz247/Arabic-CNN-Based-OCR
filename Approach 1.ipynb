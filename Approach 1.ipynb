{
  "nbformat": 4,
  "nbformat_minor": 0,
  "metadata": {
    "colab": {
      "name": "Arabic Typing OCR.ipynb",
      "provenance": [],
      "collapsed_sections": [],
      "authorship_tag": "ABX9TyMwVsNo1xTj43DGxWI34EzU",
      "include_colab_link": true
    },
    "kernelspec": {
      "name": "python3",
      "display_name": "Python 3"
    },
    "language_info": {
      "name": "python"
    }
  },
  "cells": [
    {
      "cell_type": "markdown",
      "metadata": {
        "id": "view-in-github",
        "colab_type": "text"
      },
      "source": [
        "<a href=\"https://colab.research.google.com/github/mfwz247/Arabic-CNN-Based-OCR/blob/main/Approach%201.ipynb\" target=\"_parent\"><img src=\"https://colab.research.google.com/assets/colab-badge.svg\" alt=\"Open In Colab\"/></a>"
      ]
    },
    {
      "cell_type": "code",
      "source": [
        "from tensorflow.keras.models import load_model\n",
        "from imutils.contours import sort_contours\n",
        "import tensorflow as tf\n",
        "import numpy as np\n",
        "import argparse\n",
        "import imutils\n",
        "import cv2\n",
        "#import image\n",
        "image = cv2.imread('/content/images (1).png')\n",
        "#cv2.imshow('orig',image)\n",
        "#cv2.waitKey(0)\n",
        "\n",
        "\n",
        "#grayscale\n",
        "gray = cv2.cvtColor(image,cv2.COLOR_BGR2GRAY)\n",
        "# cv2.imshow('gray',gray)\n",
        "cv2.waitKey(0)\n",
        "\n",
        "#binary\n",
        "ret,thresh = cv2.threshold(gray,127,255,cv2.THRESH_BINARY_INV)\n",
        "cv2.imwrite('BW.jpeg',thresh)\n",
        "cv2.waitKey(0)\n",
        "\n",
        "#dilation\n",
        "kernel = np.ones((5,5), np.uint8)\n",
        "img_dilation = cv2.dilate(thresh, kernel, iterations=1)\n",
        "cv2.imwrite('dilated.jpeg',img_dilation)\n",
        "cv2.waitKey(0)\n",
        "\n",
        "\n",
        "\n",
        "#find contours\n",
        "ctrs, hier = cv2.findContours(img_dilation.copy(), cv2.RETR_EXTERNAL, cv2.CHAIN_APPROX_SIMPLE)\n",
        "\n",
        "#sort contours\n",
        "sorted_ctrs = sorted(ctrs, key=lambda ctr: cv2.boundingRect(ctr)[0],reverse= True)\n",
        "\n",
        "cv2.drawContours(thresh,sorted_ctrs,-1,(90,0,255),3)\n",
        "out = np.zeros_like(image)\n",
        "out[thresh == 255] = image[thresh == 255]\n",
        "\n",
        "(y, x) = np.where(thresh == 255)\n",
        "(topy, topx) = (np.min(y), np.min(x))\n",
        "(bottomy, bottomx) = (np.max(y), np.max(x))\n",
        "out = out[topy:bottomy+1, topx:bottomx+1]\n",
        "\n",
        "# Show the output image\n",
        "cv2.imwrite('Output.jpeg', out)\n",
        "cv2.waitKey(0)\n",
        "cv2.destroyAllWindows()\n",
        "for i, ctr in enumerate(sorted_ctrs):\n",
        "    \n",
        "    \n",
        "    # Get bounding box\n",
        "\n",
        "    x, y, w, h = cv2.boundingRect(ctr)\n",
        "\n",
        "    # Getting ROI\n",
        "    roi = image[y:y+h, x:x+w]\n",
        "\n",
        "    # show ROI\n",
        "    \n",
        "    cv2.rectangle(image,(x,y),( x + w, y + h ),(90,0,255),2)\n",
        "    cv2.imwrite('segment no:'+str(i)+'.jpeg',roi)\n",
        "    cv2.waitKey(0)\n",
        "\n",
        "\n",
        "\n",
        "cv2.imwrite('marked areas.jpeg',image)\n",
        "\n",
        "cv2.waitKey(0)\n",
        "\n",
        "# model = load_model(\"/content/AWK (1).h5\")\n",
        "\n",
        "# image=cv2.imread(\"/content/segment no:5.jpeg\")\n",
        "\n",
        "# image= cv2.resize(image,dsize=(54,100), interpolation = cv2.INTER_CUBIC)\n",
        "\n",
        "\n",
        "# gray = cv2.cvtColor(image, cv2.COLOR_BGR2GRAY)\n",
        "\n",
        "# size = (100, 54)\n",
        "\n",
        "# np_image_data = np.asarray(gray)\n",
        "# np_final = np.expand_dims(np_image_data,axis=0)\n",
        "# # tf.keras.preprocessing.image.smart_resize(\n",
        "# #     gray, size, interpolation='bilinear'\n",
        "# # )\n",
        "\n",
        "\n",
        "# model.predict(np_final)\n",
        "\n",
        "\n",
        "\n",
        "\n"
      ],
      "metadata": {
        "colab": {
          "base_uri": "https://localhost:8080/"
        },
        "id": "Uf0B2Qw5PITZ",
        "outputId": "5d2a04ee-7ef0-4e06-a350-95a8b471a818"
      },
      "execution_count": null,
      "outputs": [
        {
          "output_type": "execute_result",
          "data": {
            "text/plain": [
              "-1"
            ]
          },
          "metadata": {},
          "execution_count": 4
        }
      ]
    }
  ]
}